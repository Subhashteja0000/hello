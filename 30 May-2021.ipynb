{
 "cells": [
  {
   "cell_type": "code",
   "execution_count": 1,
   "id": "5610acec",
   "metadata": {},
   "outputs": [
    {
     "name": "stdout",
     "output_type": "stream",
     "text": [
      "Hello World\n"
     ]
    }
   ],
   "source": [
    "print(\"Hello World\")"
   ]
  },
  {
   "cell_type": "code",
   "execution_count": 2,
   "id": "a05b811d",
   "metadata": {},
   "outputs": [
    {
     "name": "stdout",
     "output_type": "stream",
     "text": [
      "Hello World Again\n"
     ]
    }
   ],
   "source": [
    "print(\"Hello World Again\")"
   ]
  },
  {
   "cell_type": "code",
   "execution_count": 3,
   "id": "5583bc9b",
   "metadata": {},
   "outputs": [
    {
     "name": "stdout",
     "output_type": "stream",
     "text": [
      "123\n",
      "123 <class 'int'>\n"
     ]
    }
   ],
   "source": [
    "a=int(input())\n",
    "print(a,type(a))"
   ]
  },
  {
   "cell_type": "code",
   "execution_count": 4,
   "id": "f1bb8261",
   "metadata": {},
   "outputs": [
    {
     "name": "stdout",
     "output_type": "stream",
     "text": [
      "456\n",
      "456 <class 'str'>\n"
     ]
    }
   ],
   "source": [
    "a=input()\n",
    "print(a,type(a))"
   ]
  },
  {
   "cell_type": "markdown",
   "id": "e5ad6b0b",
   "metadata": {},
   "source": [
    "# Number Systems"
   ]
  },
  {
   "cell_type": "code",
   "execution_count": 5,
   "id": "f88e1d70",
   "metadata": {},
   "outputs": [
    {
     "name": "stdout",
     "output_type": "stream",
     "text": [
      "0b1111101 0o175 0x7d\n"
     ]
    }
   ],
   "source": [
    "a=125\n",
    "print(bin(a),oct(a),hex(a))"
   ]
  },
  {
   "cell_type": "code",
   "execution_count": 6,
   "id": "b09072f4",
   "metadata": {},
   "outputs": [
    {
     "name": "stdout",
     "output_type": "stream",
     "text": [
      "0b10111110001 0o2761 0x5f1\n"
     ]
    }
   ],
   "source": [
    "h=1521\n",
    "print(bin(h),oct(h),hex(h))"
   ]
  },
  {
   "cell_type": "code",
   "execution_count": 10,
   "id": "9e246b68",
   "metadata": {},
   "outputs": [
    {
     "name": "stdout",
     "output_type": "stream",
     "text": [
      "a\n"
     ]
    }
   ],
   "source": [
    "print(chr(97))"
   ]
  },
  {
   "cell_type": "markdown",
   "id": "c37c08d4",
   "metadata": {},
   "source": [
    "## operators in python"
   ]
  },
  {
   "cell_type": "code",
   "execution_count": 11,
   "id": "9193ddde",
   "metadata": {},
   "outputs": [
    {
     "name": "stdout",
     "output_type": "stream",
     "text": [
      "55 -5 750 0.8333333333333334 25 0\n"
     ]
    }
   ],
   "source": [
    "a=25\n",
    "b=30\n",
    "print(a+b,a-b,a*b,a/b,a%b,a//b)"
   ]
  },
  {
   "cell_type": "code",
   "execution_count": 12,
   "id": "83b626e4",
   "metadata": {},
   "outputs": [
    {
     "name": "stdout",
     "output_type": "stream",
     "text": [
      "30 25 False\n"
     ]
    }
   ],
   "source": [
    "a=25\n",
    "b=30\n",
    "print(a and b, a or b, not a)"
   ]
  },
  {
   "cell_type": "code",
   "execution_count": 13,
   "id": "ce498044",
   "metadata": {},
   "outputs": [
    {
     "name": "stdout",
     "output_type": "stream",
     "text": [
      "False True False True False True\n"
     ]
    }
   ],
   "source": [
    "a=25\n",
    "b=30\n",
    "print(a>b,a<b,a>=b,a<=b,a==b,a!=b)"
   ]
  },
  {
   "cell_type": "code",
   "execution_count": 14,
   "id": "dfd1479b",
   "metadata": {},
   "outputs": [
    {
     "name": "stdout",
     "output_type": "stream",
     "text": [
      "0 26843545600 24 31 7 False\n"
     ]
    }
   ],
   "source": [
    "a=25\n",
    "b=30\n",
    "print(a>>b,a<<b,a&b,a|b,a^b,not a)"
   ]
  },
  {
   "cell_type": "code",
   "execution_count": 15,
   "id": "547d62ee",
   "metadata": {},
   "outputs": [
    {
     "name": "stdout",
     "output_type": "stream",
     "text": [
      "97\n"
     ]
    }
   ],
   "source": [
    "print(ord('a'))"
   ]
  },
  {
   "cell_type": "code",
   "execution_count": 18,
   "id": "322cfa51",
   "metadata": {},
   "outputs": [
    {
     "name": "stdout",
     "output_type": "stream",
     "text": [
      "30\n"
     ]
    }
   ],
   "source": [
    "a=25\n",
    "b='30'\n",
    "print(a and b)"
   ]
  },
  {
   "cell_type": "code",
   "execution_count": 19,
   "id": "09c40940",
   "metadata": {},
   "outputs": [
    {
     "name": "stdout",
     "output_type": "stream",
     "text": [
      "1\n"
     ]
    }
   ],
   "source": [
    "a=1\n",
    "c='0'\n",
    "\n",
    "print(c and a)"
   ]
  },
  {
   "cell_type": "markdown",
   "id": "36a105aa",
   "metadata": {},
   "source": [
    "## Bitwise operators"
   ]
  },
  {
   "cell_type": "code",
   "execution_count": 21,
   "id": "2eae6a07",
   "metadata": {},
   "outputs": [
    {
     "name": "stdout",
     "output_type": "stream",
     "text": [
      "0 131072 8 14 6 False\n"
     ]
    }
   ],
   "source": [
    "a=8\n",
    "b=14\n",
    "\n",
    "print(a >>b,a<<b,a&b,a|b,a^b,not a)"
   ]
  },
  {
   "cell_type": "code",
   "execution_count": 24,
   "id": "4a985d3b",
   "metadata": {},
   "outputs": [
    {
     "name": "stdout",
     "output_type": "stream",
     "text": [
      "100 6\n"
     ]
    }
   ],
   "source": [
    "a=25\n",
    "print(a << 2,a >> 2)"
   ]
  },
  {
   "cell_type": "code",
   "execution_count": 27,
   "id": "eacab4b7",
   "metadata": {},
   "outputs": [
    {
     "name": "stdout",
     "output_type": "stream",
     "text": [
      "15\n",
      "13\n",
      "169\n"
     ]
    }
   ],
   "source": [
    "a =5\n",
    "\n",
    "a = a + 10\n",
    "\n",
    "print(a)\n",
    "\n",
    "a= a- 2\n",
    "print(a)\n",
    " \n",
    "a**=2\n",
    "print(a)"
   ]
  },
  {
   "cell_type": "markdown",
   "id": "2d73fc0a",
   "metadata": {},
   "source": [
    "# Membership Operators"
   ]
  },
  {
   "cell_type": "code",
   "execution_count": 28,
   "id": "fb1da56f",
   "metadata": {},
   "outputs": [
    {
     "name": "stdout",
     "output_type": "stream",
     "text": [
      "False True False\n"
     ]
    }
   ],
   "source": [
    "a='SUBHASH'\n",
    "b='su'\n",
    "c='s'\n",
    "print(a in b,a not in c, b in c)"
   ]
  },
  {
   "cell_type": "markdown",
   "id": "faa1917f",
   "metadata": {},
   "source": [
    "# Identity Operators"
   ]
  },
  {
   "cell_type": "code",
   "execution_count": 29,
   "id": "0c2f7f7f",
   "metadata": {},
   "outputs": [
    {
     "name": "stdout",
     "output_type": "stream",
     "text": [
      "True False\n"
     ]
    }
   ],
   "source": [
    "a=5\n",
    "b=5.5\n",
    "c=5\n",
    "d=[1,2,3]\n",
    "e=[1,2,3]\n",
    "print(a==c,a==e)\n",
    "\n"
   ]
  },
  {
   "cell_type": "code",
   "execution_count": null,
   "id": "ce8a7656",
   "metadata": {},
   "outputs": [],
   "source": []
  }
 ],
 "metadata": {
  "kernelspec": {
   "display_name": "Python 3",
   "language": "python",
   "name": "python3"
  },
  "language_info": {
   "codemirror_mode": {
    "name": "ipython",
    "version": 3
   },
   "file_extension": ".py",
   "mimetype": "text/x-python",
   "name": "python",
   "nbconvert_exporter": "python",
   "pygments_lexer": "ipython3",
   "version": "3.8.8"
  }
 },
 "nbformat": 4,
 "nbformat_minor": 5
}
